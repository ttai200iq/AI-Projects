{
  "cells": [
    {
      "cell_type": "code",
      "execution_count": null,
      "metadata": {
        "colab": {
          "base_uri": "https://localhost:8080/"
        },
        "id": "y7PE_SOOWldv",
        "outputId": "e37e1fe9-2775-4822-eb0d-3133ad2ae1e5"
      },
      "outputs": [
        {
          "output_type": "stream",
          "name": "stdout",
          "text": [
            "\u001b[?25l     \u001b[90m━━━━━━━━━━━━━━━━━━━━━━━━━━━━━━━━━━━━━━━━\u001b[0m \u001b[32m0.0/1.6 MB\u001b[0m \u001b[31m?\u001b[0m eta \u001b[36m-:--:--\u001b[0m\r\u001b[2K     \u001b[91m━━━━━━━━━━\u001b[0m\u001b[90m╺\u001b[0m\u001b[90m━━━━━━━━━━━━━━━━━━━━━━━━━━━━━\u001b[0m \u001b[32m0.4/1.6 MB\u001b[0m \u001b[31m12.4 MB/s\u001b[0m eta \u001b[36m0:00:01\u001b[0m\r\u001b[2K     \u001b[91m━━━━━━━━━━━━━━━━━━━━━━━━━━━━━━━━━━━━━━━\u001b[0m\u001b[91m╸\u001b[0m \u001b[32m1.6/1.6 MB\u001b[0m \u001b[31m25.9 MB/s\u001b[0m eta \u001b[36m0:00:01\u001b[0m\r\u001b[2K     \u001b[90m━━━━━━━━━━━━━━━━━━━━━━━━━━━━━━━━━━━━━━━━\u001b[0m \u001b[32m1.6/1.6 MB\u001b[0m \u001b[31m20.5 MB/s\u001b[0m eta \u001b[36m0:00:00\u001b[0m\n",
            "\u001b[?25h"
          ]
        }
      ],
      "source": [
        "!pip install -q mediapy"
      ]
    },
    {
      "cell_type": "code",
      "source": [
        "!pip install -q \"opencv-python-headless>4.3\""
      ],
      "metadata": {
        "id": "LnlkK-2A79Mz"
      },
      "execution_count": null,
      "outputs": []
    },
    {
      "cell_type": "code",
      "source": [
        "# Import libraries\n",
        "import pathlib\n",
        "\n",
        "import matplotlib as mpl\n",
        "import matplotlib.pyplot as plt\n",
        "import mediapy as media\n",
        "import numpy as np\n",
        "import PIL\n",
        "\n",
        "import tensorflow as tf\n",
        "import tensorflow_hub as hub\n",
        "import tqdm\n",
        "\n",
        "mpl.rcParams.update({\n",
        "    'font.size': 10,\n",
        "})\n"
      ],
      "metadata": {
        "id": "LzEn9Sbq8RPe"
      },
      "execution_count": null,
      "outputs": []
    },
    {
      "cell_type": "code",
      "source": [
        "labels_path = tf.keras.utils.get_file(\n",
        "    fname='labels.txt',\n",
        "    origin='https://raw.githubusercontent.com/tensorflow/models/f8af2291cced43fc9f1d9b41ddbf772ae7b0d7d2/official/projects/movinet/files/kinetics_600_labels.txt'\n",
        ")\n",
        "labels_path = pathlib.Path(labels_path)\n",
        "\n",
        "lines = labels_path.read_text().splitlines()\n",
        "KINETICS_600_LABELS = np.array([line.strip() for line in lines])\n",
        "KINETICS_600_LABELS[:20]"
      ],
      "metadata": {
        "colab": {
          "base_uri": "https://localhost:8080/"
        },
        "id": "fkfe4SuT8tNA",
        "outputId": "22d2ec26-70a3-4e0b-bf1b-67bd98dbba59"
      },
      "execution_count": null,
      "outputs": [
        {
          "output_type": "stream",
          "name": "stdout",
          "text": [
            "Downloading data from https://raw.githubusercontent.com/tensorflow/models/f8af2291cced43fc9f1d9b41ddbf772ae7b0d7d2/official/projects/movinet/files/kinetics_600_labels.txt\n",
            "9209/9209 [==============================] - 0s 0us/step\n"
          ]
        },
        {
          "output_type": "execute_result",
          "data": {
            "text/plain": [
              "array(['abseiling', 'acting in play', 'adjusting glasses', 'air drumming',\n",
              "       'alligator wrestling', 'answering questions', 'applauding',\n",
              "       'applying cream', 'archaeological excavation', 'archery',\n",
              "       'arguing', 'arm wrestling', 'arranging flowers',\n",
              "       'assembling bicycle', 'assembling computer',\n",
              "       'attending conference', 'auctioning', 'backflip (human)',\n",
              "       'baking cookies', 'bandaging'], dtype='<U49')"
            ]
          },
          "metadata": {},
          "execution_count": 7
        }
      ]
    },
    {
      "cell_type": "code",
      "source": [
        "jumpingjack_url = 'https://github.com/tensorflow/models/raw/f8af2291cced43fc9f1d9b41ddbf772ae7b0d7d2/official/projects/movinet/files/jumpingjack.gif'\n",
        "jumpingjack_path = tf.keras.utils.get_file(\n",
        "    fname='jumpingjack.gif',\n",
        "    origin=jumpingjack_url,\n",
        "    cache_dir='.', cache_subdir='.',\n",
        ")"
      ],
      "metadata": {
        "colab": {
          "base_uri": "https://localhost:8080/"
        },
        "id": "rdKz8p848_eX",
        "outputId": "91ef7af9-1445-4ed2-91c0-0a591348c50f"
      },
      "execution_count": null,
      "outputs": [
        {
          "output_type": "stream",
          "name": "stdout",
          "text": [
            "Downloading data from https://github.com/tensorflow/models/raw/f8af2291cced43fc9f1d9b41ddbf772ae7b0d7d2/official/projects/movinet/files/jumpingjack.gif\n",
            "783318/783318 [==============================] - 0s 0us/step\n"
          ]
        }
      ]
    },
    {
      "cell_type": "code",
      "source": [
        "# Read and process a video\n",
        "def load_gif(file_path, image_size=(224, 224)):\n",
        "  \"\"\"Loads a gif file into a TF tensor.\n",
        "\n",
        "  Use images resized to match what's expected by your model.\n",
        "  The model pages say the \"A2\" models expect 224 x 224 images at 5 fps\n",
        "\n",
        "  Args:\n",
        "    file_path: path to the location of a gif file.\n",
        "    image_size: a tuple of target size.\n",
        "\n",
        "  Returns:\n",
        "    a video of the gif file\n",
        "  \"\"\"\n",
        "  # Load a gif file, convert it to a TF tensor\n",
        "  raw = tf.io.read_file(file_path)\n",
        "  video = tf.io.decode_gif(raw)\n",
        "  # Resize the video\n",
        "  video = tf.image.resize(video, image_size)\n",
        "  # change dtype to a float32\n",
        "  # Hub models always want images normalized to [0,1]\n",
        "  # ref: https://www.tensorflow.org/hub/common_signatures/images#input\n",
        "  video = tf.cast(video, tf.float32) / 255.\n",
        "  return video"
      ],
      "metadata": {
        "id": "vqq55Jjq9NQn"
      },
      "execution_count": null,
      "outputs": []
    },
    {
      "cell_type": "code",
      "source": [
        "jumpingjack=load_gif(jumpingjack_path)\n",
        "jumpingjack.shape"
      ],
      "metadata": {
        "colab": {
          "base_uri": "https://localhost:8080/"
        },
        "id": "_d7T_lFk9fAQ",
        "outputId": "7bba43de-b5d4-4802-b6c7-9feacb6c3ee1"
      },
      "execution_count": null,
      "outputs": [
        {
          "output_type": "execute_result",
          "data": {
            "text/plain": [
              "TensorShape([13, 224, 224, 3])"
            ]
          },
          "metadata": {},
          "execution_count": 10
        }
      ]
    },
    {
      "cell_type": "code",
      "source": [
        "%%time\n",
        "id = 'a2'\n",
        "mode = 'base'\n",
        "version = '3'\n",
        "hub_url = f'https://tfhub.dev/tensorflow/movinet/{id}/{mode}/kinetics-600/classification/{version}'\n",
        "model = hub.load(hub_url)"
      ],
      "metadata": {
        "colab": {
          "base_uri": "https://localhost:8080/"
        },
        "id": "GUdUaQ-e9zIA",
        "outputId": "833c704d-9849-4978-cb01-0fa3a7aa0517"
      },
      "execution_count": null,
      "outputs": [
        {
          "output_type": "stream",
          "name": "stdout",
          "text": [
            "CPU times: user 19.9 s, sys: 929 ms, total: 20.8 s\n",
            "Wall time: 22.4 s\n"
          ]
        }
      ]
    },
    {
      "cell_type": "code",
      "source": [
        "sig = model.signatures['serving_default']\n",
        "print(sig.pretty_printed_signature())"
      ],
      "metadata": {
        "colab": {
          "base_uri": "https://localhost:8080/"
        },
        "id": "4csVjzNi-C2K",
        "outputId": "d671dea3-9240-481f-d9a6-192628f77294"
      },
      "execution_count": null,
      "outputs": [
        {
          "output_type": "stream",
          "name": "stdout",
          "text": [
            "signature_wrapper(*, image)\n",
            "  Args:\n",
            "    image: float32 Tensor, shape=(None, None, None, None, 3)\n",
            "  Returns:\n",
            "    {'classifier_head': <1>}\n",
            "      <1>: float32 Tensor, shape=(None, 600)\n"
          ]
        }
      ]
    },
    {
      "cell_type": "code",
      "source": [
        "#warmup\n",
        "sig(image = jumpingjack[tf.newaxis, :1]);"
      ],
      "metadata": {
        "id": "PbpGl0kx-F82"
      },
      "execution_count": null,
      "outputs": []
    },
    {
      "cell_type": "code",
      "source": [
        "%%time\n",
        "logits = sig(image = jumpingjack[tf.newaxis, ...])\n",
        "logits = logits['classifier_head'][0]\n",
        "\n",
        "print(logits.shape)\n",
        "print()"
      ],
      "metadata": {
        "colab": {
          "base_uri": "https://localhost:8080/"
        },
        "id": "vf7xgICY-KCk",
        "outputId": "223006e5-b1a8-47e4-ed3a-1585b193c0fe"
      },
      "execution_count": null,
      "outputs": [
        {
          "output_type": "stream",
          "name": "stdout",
          "text": [
            "(600,)\n",
            "\n",
            "CPU times: user 37.7 s, sys: 169 ms, total: 37.9 s\n",
            "Wall time: 29.2 s\n"
          ]
        }
      ]
    },
    {
      "cell_type": "code",
      "source": [
        "# Get top_k labels and probabilities\n",
        "def get_top_k(probs, k=5, label_map=KINETICS_600_LABELS):\n",
        "  \"\"\"Outputs the top k model labels and probabilities on the given video.\n",
        "\n",
        "  Args:\n",
        "    probs: probability tensor of shape (num_frames, num_classes) that represents\n",
        "      the probability of each class on each frame.\n",
        "    k: the number of top predictions to select.\n",
        "    label_map: a list of labels to map logit indices to label strings.\n",
        "\n",
        "  Returns:\n",
        "    a tuple of the top-k labels and probabilities.\n",
        "  \"\"\"\n",
        "  # Sort predictions to find top_k\n",
        "  top_predictions = tf.argsort(probs, axis=-1, direction='DESCENDING')[:k]\n",
        "  # collect the labels of top_k predictions\n",
        "  top_labels = tf.gather(label_map, top_predictions, axis=-1)\n",
        "  # decode lablels\n",
        "  top_labels = [label.decode('utf8') for label in top_labels.numpy()]\n",
        "  # top_k probabilities of the predictions\n",
        "  top_probs = tf.gather(probs, top_predictions, axis=-1).numpy()\n",
        "  return tuple(zip(top_labels, top_probs))"
      ],
      "metadata": {
        "id": "jyh3FVFW-VS-"
      },
      "execution_count": null,
      "outputs": []
    },
    {
      "cell_type": "code",
      "source": [
        "probs = tf.nn.softmax(logits, axis=-1)\n",
        "for label, p in get_top_k(probs):\n",
        "  print(f'{label:20s}: {p:.3f}')"
      ],
      "metadata": {
        "colab": {
          "base_uri": "https://localhost:8080/"
        },
        "id": "EQM77Bxi-cOk",
        "outputId": "4cfcb28e-fb16-4ce8-ca62-bdc9bf16fec3"
      },
      "execution_count": null,
      "outputs": [
        {
          "output_type": "stream",
          "name": "stdout",
          "text": [
            "jumping jacks       : 0.834\n",
            "zumba               : 0.008\n",
            "lunge               : 0.003\n",
            "doing aerobics      : 0.003\n",
            "polishing metal     : 0.002\n"
          ]
        }
      ]
    },
    {
      "cell_type": "markdown",
      "source": [
        "**The streaming model**"
      ],
      "metadata": {
        "id": "uAGU6CA6GC37"
      }
    },
    {
      "cell_type": "markdown",
      "source": [
        "Phần trước sử dụng một mô hình chạy trên toàn bộ video. Thường khi xử lý một video, bạn không muốn chỉ có một dự đoán duy nhất ở cuối, mà bạn muốn cập nhật dự đoán từng khung hình. Các phiên bản stream của mô hình cho phép bạn làm điều này.\n",
        "\n",
        "Hãy tải phiên bản stream của mô hình lên."
      ],
      "metadata": {
        "id": "hB8hYcvNCJ2P"
      }
    },
    {
      "cell_type": "code",
      "source": [
        "%%time\n",
        "id = 'a2'\n",
        "mode = 'stream'\n",
        "version = '3'\n",
        "hub_url = f'https://tfhub.dev/tensorflow/movinet/{id}/{mode}/kinetics-600/classification/{version}'\n",
        "model = hub.load(hub_url)"
      ],
      "metadata": {
        "colab": {
          "base_uri": "https://localhost:8080/"
        },
        "id": "2gd3rHSv-f62",
        "outputId": "c2c2c7de-7f9c-4ad1-f53c-bb9e3755a4f4"
      },
      "execution_count": null,
      "outputs": [
        {
          "output_type": "stream",
          "name": "stderr",
          "text": [
            "WARNING:absl:`state/b0/l1/pool_buffer` is not a valid tf.function parameter name. Sanitizing to `state_b0_l1_pool_buffer`.\n",
            "WARNING:absl:`state/b2/l4/stream_buffer` is not a valid tf.function parameter name. Sanitizing to `state_b2_l4_stream_buffer`.\n",
            "WARNING:absl:`state/b3/l2/pool_buffer` is not a valid tf.function parameter name. Sanitizing to `state_b3_l2_pool_buffer`.\n",
            "WARNING:absl:`state/b4/l3/pool_frame_count` is not a valid tf.function parameter name. Sanitizing to `state_b4_l3_pool_frame_count`.\n",
            "WARNING:absl:`state/b1/l1/stream_buffer` is not a valid tf.function parameter name. Sanitizing to `state_b1_l1_stream_buffer`.\n"
          ]
        },
        {
          "output_type": "stream",
          "name": "stdout",
          "text": [
            "CPU times: user 57.7 s, sys: 2.83 s, total: 1min\n",
            "Wall time: 1min 1s\n"
          ]
        }
      ]
    },
    {
      "cell_type": "markdown",
      "source": [
        "Đoạn code `list(model.signatures.keys())` được sử dụng để lấy danh sách các chữ ký (signatures) của mô hình."
      ],
      "metadata": {
        "id": "AHzHIVp3CtSC"
      }
    },
    {
      "cell_type": "code",
      "source": [
        "list(model.signatures.keys())"
      ],
      "metadata": {
        "colab": {
          "base_uri": "https://localhost:8080/"
        },
        "id": "Be1lIyKH-1UZ",
        "outputId": "2e9713c5-7c1a-49af-e0f0-0afec324cbba"
      },
      "execution_count": null,
      "outputs": [
        {
          "output_type": "execute_result",
          "data": {
            "text/plain": [
              "['call', 'init_states']"
            ]
          },
          "metadata": {},
          "execution_count": 18
        }
      ]
    },
    {
      "cell_type": "markdown",
      "source": [
        "\"Nghĩa là chữ ký `init_states` nhận đầu vào là hình dạng của video (batch, frames, height, width, colors) và trả về một từ điển lớn chứa các tensor chứa trạng thái ban đầu của RNNs.\""
      ],
      "metadata": {
        "id": "C3FL4xQCDQ-R"
      }
    },
    {
      "cell_type": "code",
      "source": [
        "lines = model.signatures['init_states'].pretty_printed_signature().splitlines()\n",
        "lines = lines[:10]\n",
        "lines.append('      ...')\n",
        "print('.\\n'.join(lines))"
      ],
      "metadata": {
        "colab": {
          "base_uri": "https://localhost:8080/"
        },
        "id": "AxGSoYX2-8MR",
        "outputId": "390e826b-ba0e-4fd4-bde5-27958675036f"
      },
      "execution_count": null,
      "outputs": [
        {
          "output_type": "stream",
          "name": "stdout",
          "text": [
            "signature_wrapper(*, input_shape).\n",
            "  Args:.\n",
            "    input_shape: int32 Tensor, shape=(5,).\n",
            "  Returns:.\n",
            "    {'state/b0/l0/pool_buffer': <1>, 'state/b0/l0/pool_frame_count': <2>, 'state/b0/l1/pool_buffer': <3>, 'state/b0/l1/pool_frame_count': <4>, 'state/b0/l1/stream_buffer': <5>, 'state/b0/l2/pool_buffer': <6>, 'state/b0/l2/pool_frame_count': <7>, 'state/b0/l2/stream_buffer': <8>, 'state/b1/l0/pool_buffer': <9>, 'state/b1/l0/pool_frame_count': <10>, 'state/b1/l0/stream_buffer': <11>, 'state/b1/l1/pool_buffer': <12>, 'state/b1/l1/pool_frame_count': <13>, 'state/b1/l1/stream_buffer': <14>, 'state/b1/l2/pool_buffer': <15>, 'state/b1/l2/pool_frame_count': <16>, 'state/b1/l2/stream_buffer': <17>, 'state/b1/l3/pool_buffer': <18>, 'state/b1/l3/pool_frame_count': <19>, 'state/b1/l3/stream_buffer': <20>, 'state/b1/l4/pool_buffer': <21>, 'state/b1/l4/pool_frame_count': <22>, 'state/b1/l4/stream_buffer': <23>, 'state/b2/l0/pool_buffer': <24>, 'state/b2/l0/pool_frame_count': <25>, 'state/b2/l0/stream_buffer': <26>, 'state/b2/l1/pool_buffer': <27>, 'state/b2/l1/pool_frame_count': <28>, 'state/b2/l1/stream_buffer': <29>, 'state/b2/l2/pool_buffer': <30>, 'state/b2/l2/pool_frame_count': <31>, 'state/b2/l2/stream_buffer': <32>, 'state/b2/l3/pool_buffer': <33>, 'state/b2/l3/pool_frame_count': <34>, 'state/b2/l3/stream_buffer': <35>, 'state/b2/l4/pool_buffer': <36>, 'state/b2/l4/pool_frame_count': <37>, 'state/b2/l4/stream_buffer': <38>, 'state/b3/l0/pool_buffer': <39>, 'state/b3/l0/pool_frame_count': <40>, 'state/b3/l0/stream_buffer': <41>, 'state/b3/l1/pool_buffer': <42>, 'state/b3/l1/pool_frame_count': <43>, 'state/b3/l1/stream_buffer': <44>, 'state/b3/l2/pool_buffer': <45>, 'state/b3/l2/pool_frame_count': <46>, 'state/b3/l2/stream_buffer': <47>, 'state/b3/l3/pool_buffer': <48>, 'state/b3/l3/pool_frame_count': <49>, 'state/b3/l3/stream_buffer': <50>, 'state/b3/l4/pool_buffer': <51>, 'state/b3/l4/pool_frame_count': <52>, 'state/b3/l5/pool_buffer': <53>, 'state/b3/l5/pool_frame_count': <54>, 'state/b3/l5/stream_buffer': <55>, 'state/b4/l0/pool_buffer': <56>, 'state/b4/l0/pool_frame_count': <57>, 'state/b4/l0/stream_buffer': <58>, 'state/b4/l1/pool_buffer': <59>, 'state/b4/l1/pool_frame_count': <60>, 'state/b4/l2/pool_buffer': <61>, 'state/b4/l2/pool_frame_count': <62>, 'state/b4/l3/pool_buffer': <63>, 'state/b4/l3/pool_frame_count': <64>, 'state/b4/l4/pool_buffer': <65>, 'state/b4/l4/pool_frame_count': <66>, 'state/b4/l5/pool_buffer': <67>, 'state/b4/l5/pool_frame_count': <68>, 'state/b4/l5/stream_buffer': <69>, 'state/b4/l6/pool_buffer': <70>, 'state/b4/l6/pool_frame_count': <71>, 'state/head/pool_buffer': <72>, 'state/head/pool_frame_count': <73>}.\n",
            "      <1>: float32 Tensor, shape=(None, 1, 1, 1, 40).\n",
            "      <2>: int32 Tensor, shape=(1,).\n",
            "      <3>: float32 Tensor, shape=(None, 1, 1, 1, 40).\n",
            "      <4>: int32 Tensor, shape=(1,).\n",
            "      <5>: float32 Tensor, shape=(None, 2, None, None, 40).\n",
            "      ...\n"
          ]
        }
      ]
    },
    {
      "cell_type": "code",
      "source": [
        "initial_state = model.init_states(jumpingjack[tf.newaxis, ...].shape)"
      ],
      "metadata": {
        "id": "yKccOVeI-_Ow"
      },
      "execution_count": null,
      "outputs": []
    },
    {
      "cell_type": "markdown",
      "source": [
        "\"Dòng code `initial_state = model.init_states(jumpingjack[tf.newaxis, ...].shape)` có nghĩa là chúng ta sử dụng phương thức `init_states` của mô hình để lấy trạng thái ban đầu cho mạng RNNs dựa trên hình dạng của dữ liệu video `jumpingjack`. Dữ liệu video `jumpingjack` được mở rộng thêm một chiều với `tf.newaxis` để tạo ra một batch duy nhất. Sau đó, chúng ta truyền hình dạng của video đã được mở rộng này vào phương thức `init_states` để lấy trạng thái ban đầu của mạng RNNs.\""
      ],
      "metadata": {
        "id": "GQpMd9PMDr7D"
      }
    },
    {
      "cell_type": "code",
      "source": [
        "type(initial_state)"
      ],
      "metadata": {
        "colab": {
          "base_uri": "https://localhost:8080/"
        },
        "id": "BU2stj7b_Hnl",
        "outputId": "44bcbe17-6d8e-4600-bf29-9098e3e310e2"
      },
      "execution_count": null,
      "outputs": [
        {
          "output_type": "execute_result",
          "data": {
            "text/plain": [
              "dict"
            ]
          },
          "metadata": {},
          "execution_count": 21
        }
      ]
    },
    {
      "cell_type": "code",
      "source": [
        "list(sorted(initial_state.keys()))[:5]"
      ],
      "metadata": {
        "colab": {
          "base_uri": "https://localhost:8080/"
        },
        "id": "jnfoOtY7_J1C",
        "outputId": "5a98084f-9ff0-468b-a7f1-a7c0c3e6e638"
      },
      "execution_count": null,
      "outputs": [
        {
          "output_type": "execute_result",
          "data": {
            "text/plain": [
              "['state/b0/l0/pool_buffer',\n",
              " 'state/b0/l0/pool_frame_count',\n",
              " 'state/b0/l1/pool_buffer',\n",
              " 'state/b0/l1/pool_frame_count',\n",
              " 'state/b0/l1/stream_buffer']"
            ]
          },
          "metadata": {},
          "execution_count": 22
        }
      ]
    },
    {
      "cell_type": "markdown",
      "source": [
        "Sau khi có trạng thái ban đầu cho các mạng RNN, bạn có thể truyền trạng thái và một khung hình video làm đầu vào (duy trì hình dạng (batch, frames, height, width, colors) cho khung hình video). Mô hình trả về một cặp (logits, state).\n",
        "\n",
        "Sau khi chỉ xem khung hình đầu tiên, mô hình chưa tin rằng video này là \"jumping jacks\":"
      ],
      "metadata": {
        "id": "2pOyXMT1EpWh"
      }
    },
    {
      "cell_type": "code",
      "source": [
        "inputs = initial_state.copy()\n",
        "\n",
        "# Add the batch axis, take the first frme, but keep the frame-axis.\n",
        "inputs['image'] = jumpingjack[tf.newaxis, 0:1, ...]"
      ],
      "metadata": {
        "id": "rngnOpmi_MA_"
      },
      "execution_count": null,
      "outputs": []
    },
    {
      "cell_type": "code",
      "source": [
        "# warmup\n",
        "model(inputs);"
      ],
      "metadata": {
        "id": "NbcrfOYF_PX1"
      },
      "execution_count": null,
      "outputs": []
    },
    {
      "cell_type": "code",
      "source": [
        "logits, new_state = model(inputs)\n",
        "logits = logits[0]\n",
        "probs = tf.nn.softmax(logits, axis=-1)\n",
        "\n",
        "for label, p in get_top_k(probs):\n",
        "  print(f'{label:20s}: {p:.3f}')\n",
        "\n",
        "print()"
      ],
      "metadata": {
        "colab": {
          "base_uri": "https://localhost:8080/"
        },
        "id": "59do__im_TBc",
        "outputId": "69e503ff-7ce6-408b-b993-e778220cfd7f"
      },
      "execution_count": null,
      "outputs": [
        {
          "output_type": "stream",
          "name": "stdout",
          "text": [
            "golf chipping       : 0.427\n",
            "tackling            : 0.134\n",
            "lunge               : 0.056\n",
            "stretching arm      : 0.053\n",
            "passing american football (not in game): 0.039\n",
            "\n"
          ]
        }
      ]
    },
    {
      "cell_type": "code",
      "source": [
        "%%time\n",
        "state = initial_state.copy()\n",
        "all_logits = []\n",
        "\n",
        "for n in range(len(jumpingjack)):\n",
        "  inputs = state\n",
        "  inputs['image'] = jumpingjack[tf.newaxis, n:n+1, ...]\n",
        "  result, state = model(inputs)\n",
        "  all_logits.append(logits)\n",
        "\n",
        "probabilities = tf.nn.softmax(all_logits, axis=-1)"
      ],
      "metadata": {
        "colab": {
          "base_uri": "https://localhost:8080/"
        },
        "id": "8ixtsHjk_VGa",
        "outputId": "4ae7a45c-19b8-4e38-83bd-34967b7bf950"
      },
      "execution_count": null,
      "outputs": [
        {
          "output_type": "stream",
          "name": "stdout",
          "text": [
            "CPU times: user 1.93 s, sys: 85.9 ms, total: 2.02 s\n",
            "Wall time: 2.52 s\n"
          ]
        }
      ]
    },
    {
      "cell_type": "code",
      "source": [
        "for label, p in get_top_k(probabilities[-1]):\n",
        "  print(f'{label:20s}: {p:.3f}')"
      ],
      "metadata": {
        "colab": {
          "base_uri": "https://localhost:8080/"
        },
        "id": "q_C6LrzV_W5D",
        "outputId": "b949a7fe-8448-4f83-ec99-3951645b12bd"
      },
      "execution_count": null,
      "outputs": [
        {
          "output_type": "stream",
          "name": "stdout",
          "text": [
            "golf chipping       : 0.427\n",
            "tackling            : 0.134\n",
            "lunge               : 0.056\n",
            "stretching arm      : 0.053\n",
            "passing american football (not in game): 0.039\n"
          ]
        }
      ]
    },
    {
      "cell_type": "markdown",
      "source": [
        "Nếu bạn chạy mô hình trong một vòng lặp, truyền trạng thái đã cập nhật cùng với mỗi khung hình, mô hình sẽ nhanh chóng hội tụ đến kết quả chính xác:"
      ],
      "metadata": {
        "id": "1XUOYNZWFSoS"
      }
    },
    {
      "cell_type": "code",
      "source": [
        "id = tf.argmax(probabilities[-1])\n",
        "plt.plot(probabilities[:, id])\n",
        "plt.xlabel('Frame #')\n",
        "plt.ylabel(f\"p('{KINETICS_600_LABELS[id]}')\");"
      ],
      "metadata": {
        "colab": {
          "base_uri": "https://localhost:8080/",
          "height": 449
        },
        "id": "qujRdGnk_nWw",
        "outputId": "65a2a12f-9283-4fb3-8084-7cfba7353b79"
      },
      "execution_count": null,
      "outputs": [
        {
          "output_type": "display_data",
          "data": {
            "text/plain": [
              "<Figure size 640x480 with 1 Axes>"
            ],
            "image/png": "[encoded data removed]"
          },
          "metadata": {}
        }
      ]
    },
    {
      "cell_type": "markdown",
      "source": [
        "Bạn có thể nhận thấy rằng xác suất cuối cùng có độ chắc chắn cao hơn nhiều so với phần trước khi chạy mô hình cơ bản. Mô hình cơ bản trả về một trung bình của các dự đoán trên các khung hình."
      ],
      "metadata": {
        "id": "zB8DC_U1FmIE"
      }
    },
    {
      "cell_type": "code",
      "source": [
        "for label, p in get_top_k(tf.reduce_mean(probabilities, axis=0)):\n",
        "  print(f'{label:20s}: {p:.3f}')"
      ],
      "metadata": {
        "colab": {
          "base_uri": "https://localhost:8080/"
        },
        "id": "yf_efa_7_pPY",
        "outputId": "8905df03-bc69-415d-927d-c33586b414b3"
      },
      "execution_count": null,
      "outputs": [
        {
          "output_type": "stream",
          "name": "stdout",
          "text": [
            "golf chipping       : 0.427\n",
            "tackling            : 0.134\n",
            "lunge               : 0.056\n",
            "stretching arm      : 0.053\n",
            "passing american football (not in game): 0.039\n"
          ]
        }
      ]
    },
    {
      "cell_type": "markdown",
      "source": [
        "**Animate the predictions over time**"
      ],
      "metadata": {
        "id": "Ir4agto2GVMB"
      }
    },
    {
      "cell_type": "markdown",
      "source": [
        "Phần trước đã giải thích một số chi tiết về cách sử dụng các mô hình này. Phần này sẽ dựa trên những thông tin đó để tạo ra một số đoạn hoạt hình suy luận đẹp mắt.\n",
        "\n",
        "Bên dưới định nghĩa các hàm trợ giúp được sử dụng trong phần này."
      ],
      "metadata": {
        "id": "yAnPrIfMGXBl"
      }
    },
    {
      "cell_type": "code",
      "source": [
        "# Get top_k labels and probabilities predicted using MoViNets streaming model\n",
        "def get_top_k_streaming_labels(probs, k=5, label_map=KINETICS_600_LABELS):\n",
        "  \"\"\"Returns the top-k labels over an entire video sequence.\n",
        "\n",
        "  Args:\n",
        "    probs: probability tensor of shape (num_frames, num_classes) that represents\n",
        "      the probability of each class on each frame.\n",
        "    k: the number of top predictions to select.\n",
        "    label_map: a list of labels to map logit indices to label strings.\n",
        "\n",
        "  Returns:\n",
        "    a tuple of the top-k probabilities, labels, and logit indices\n",
        "  \"\"\"\n",
        "  top_categories_last = tf.argsort(probs, -1, 'DESCENDING')[-1, :1]\n",
        "  # Sort predictions to find top_k\n",
        "  categories = tf.argsort(probs, -1, 'DESCENDING')[:, :k]\n",
        "  categories = tf.reshape(categories, [-1])\n",
        "\n",
        "  counts = sorted([\n",
        "      (i.numpy(), tf.reduce_sum(tf.cast(categories == i, tf.int32)).numpy())\n",
        "      for i in tf.unique(categories)[0]\n",
        "  ], key=lambda x: x[1], reverse=True)\n",
        "\n",
        "  top_probs_idx = tf.constant([i for i, _ in counts[:k]])\n",
        "  top_probs_idx = tf.concat([top_categories_last, top_probs_idx], 0)\n",
        "  # find unique indices of categories\n",
        "  top_probs_idx = tf.unique(top_probs_idx)[0][:k+1]\n",
        "  # top_k probabilities of the predictions\n",
        "  top_probs = tf.gather(probs, top_probs_idx, axis=-1)\n",
        "  top_probs = tf.transpose(top_probs, perm=(1, 0))\n",
        "  # collect the labels of top_k predictions\n",
        "  top_labels = tf.gather(label_map, top_probs_idx, axis=0)\n",
        "  # decode the top_k labels\n",
        "  top_labels = [label.decode('utf8') for label in top_labels.numpy()]\n",
        "\n",
        "  return top_probs, top_labels, top_probs_idx\n",
        "\n",
        "# Plot top_k predictions at a given time step\n",
        "def plot_streaming_top_preds_at_step(\n",
        "    top_probs,\n",
        "    top_labels,\n",
        "    step=None,\n",
        "    image=None,\n",
        "    legend_loc='lower left',\n",
        "    duration_seconds=10,\n",
        "    figure_height=500,\n",
        "    playhead_scale=0.8,\n",
        "    grid_alpha=0.3):\n",
        "  \"\"\"Generates a plot of the top video model predictions at a given time step.\n",
        "\n",
        "  Args:\n",
        "    top_probs: a tensor of shape (k, num_frames) representing the top-k\n",
        "      probabilities over all frames.\n",
        "    top_labels: a list of length k that represents the top-k label strings.\n",
        "    step: the current time step in the range [0, num_frames].\n",
        "    image: the image frame to display at the current time step.\n",
        "    legend_loc: the placement location of the legend.\n",
        "    duration_seconds: the total duration of the video.\n",
        "    figure_height: the output figure height.\n",
        "    playhead_scale: scale value for the playhead.\n",
        "    grid_alpha: alpha value for the gridlines.\n",
        "\n",
        "  Returns:\n",
        "    A tuple of the output numpy image, figure, and axes.\n",
        "  \"\"\"\n",
        "  # find number of top_k labels and frames in the video\n",
        "  num_labels, num_frames = top_probs.shape\n",
        "  if step is None:\n",
        "    step = num_frames\n",
        "  # Visualize frames and top_k probabilities of streaming video\n",
        "  fig = plt.figure(figsize=(6.5, 7), dpi=300)\n",
        "  gs = mpl.gridspec.GridSpec(8, 1)\n",
        "  ax2 = plt.subplot(gs[:-3, :])\n",
        "  ax = plt.subplot(gs[-3:, :])\n",
        "  # display the frame\n",
        "  if image is not None:\n",
        "    ax2.imshow(image, interpolation='nearest')\n",
        "    ax2.axis('off')\n",
        "  # x-axis (frame number)\n",
        "  preview_line_x = tf.linspace(0., duration_seconds, num_frames)\n",
        "  # y-axis (top_k probabilities)\n",
        "  preview_line_y = top_probs\n",
        "\n",
        "  line_x = preview_line_x[:step+1]\n",
        "  line_y = preview_line_y[:, :step+1]\n",
        "\n",
        "  for i in range(num_labels):\n",
        "    ax.plot(preview_line_x, preview_line_y[i], label=None, linewidth='1.5',\n",
        "            linestyle=':', color='gray')\n",
        "    ax.plot(line_x, line_y[i], label=top_labels[i], linewidth='2.0')\n",
        "\n",
        "\n",
        "  ax.grid(which='major', linestyle=':', linewidth='1.0', alpha=grid_alpha)\n",
        "  ax.grid(which='minor', linestyle=':', linewidth='0.5', alpha=grid_alpha)\n",
        "\n",
        "  min_height = tf.reduce_min(top_probs) * playhead_scale\n",
        "  max_height = tf.reduce_max(top_probs)\n",
        "  ax.vlines(preview_line_x[step], min_height, max_height, colors='red')\n",
        "  ax.scatter(preview_line_x[step], max_height, color='red')\n",
        "\n",
        "  ax.legend(loc=legend_loc)\n",
        "\n",
        "  plt.xlim(0, duration_seconds)\n",
        "  plt.ylabel('Probability')\n",
        "  plt.xlabel('Time (s)')\n",
        "  plt.yscale('log')\n",
        "\n",
        "  fig.tight_layout()\n",
        "  fig.canvas.draw()\n",
        "\n",
        "  data = np.frombuffer(fig.canvas.tostring_rgb(), dtype=np.uint8)\n",
        "  data = data.reshape(fig.canvas.get_width_height()[::-1] + (3,))\n",
        "  plt.close()\n",
        "\n",
        "  figure_width = int(figure_height * data.shape[1] / data.shape[0])\n",
        "  image = PIL.Image.fromarray(data).resize([figure_width, figure_height])\n",
        "  image = np.array(image)\n",
        "\n",
        "  return image\n",
        "\n",
        "# Plotting top_k predictions from MoViNets streaming model\n",
        "def plot_streaming_top_preds(\n",
        "    probs,\n",
        "    video,\n",
        "    top_k=5,\n",
        "    video_fps=25.,\n",
        "    figure_height=500,\n",
        "    use_progbar=True):\n",
        "  \"\"\"Generates a video plot of the top video model predictions.\n",
        "\n",
        "  Args:\n",
        "    probs: probability tensor of shape (num_frames, num_classes) that represents\n",
        "      the probability of each class on each frame.\n",
        "    video: the video to display in the plot.\n",
        "    top_k: the number of top predictions to select.\n",
        "    video_fps: the input video fps.\n",
        "    figure_fps: the output video fps.\n",
        "    figure_height: the height of the output video.\n",
        "    use_progbar: display a progress bar.\n",
        "\n",
        "  Returns:\n",
        "    A numpy array representing the output video.\n",
        "  \"\"\"\n",
        "  # select number of frames per second\n",
        "  video_fps = 8.\n",
        "  # select height of the image\n",
        "  figure_height = 500\n",
        "  # number of time steps of the given video\n",
        "  steps = video.shape[0]\n",
        "  # estimate duration of the video (in seconds)\n",
        "  duration = steps / video_fps\n",
        "  # estiamte top_k probabilities and corresponding labels\n",
        "  top_probs, top_labels, _ = get_top_k_streaming_labels(probs, k=top_k)\n",
        "\n",
        "  images = []\n",
        "  step_generator = tqdm.trange(steps) if use_progbar else range(steps)\n",
        "  for i in step_generator:\n",
        "    image = plot_streaming_top_preds_at_step(\n",
        "        top_probs=top_probs,\n",
        "        top_labels=top_labels,\n",
        "        step=i,\n",
        "        image=video[i],\n",
        "        duration_seconds=duration,\n",
        "        figure_height=figure_height,\n",
        "    )\n",
        "    images.append(image)\n",
        "\n",
        "  return np.array(images)"
      ],
      "metadata": {
        "id": "Ff_om-sh_v8a"
      },
      "execution_count": null,
      "outputs": []
    },
    {
      "cell_type": "markdown",
      "source": [
        "Bắt đầu bằng việc chạy mô hình streaming qua các khung hình của video và thu thập các logits:"
      ],
      "metadata": {
        "id": "VlD_7qaVHXqa"
      }
    },
    {
      "cell_type": "code",
      "source": [
        "init_states = model.init_states(jumpingjack[tf.newaxis].shape)"
      ],
      "metadata": {
        "id": "EGACmW4w_3XC"
      },
      "execution_count": null,
      "outputs": []
    },
    {
      "cell_type": "code",
      "source": [
        "# Insert your video clip here\n",
        "video = jumpingjack\n",
        "images = tf.split(video[tf.newaxis], video.shape[0], axis=1)\n",
        "\n",
        "all_logits = []\n",
        "\n",
        "# To run on a video, pass in one frame at a time\n",
        "states = init_states\n",
        "for image in tqdm.tqdm(images):\n",
        "  # predictions for each frame\n",
        "  logits, states = model({**states, 'image': image})\n",
        "  all_logits.append(logits)\n",
        "\n",
        "# concatinating all the logits\n",
        "logits = tf.concat(all_logits, 0)\n",
        "# estimating probabilities\n",
        "probs = tf.nn.softmax(logits, axis=-1)"
      ],
      "metadata": {
        "colab": {
          "base_uri": "https://localhost:8080/"
        },
        "id": "Pk0d4r5yAEu0",
        "outputId": "98b583ea-354f-45d2-e9a1-cfe520b74e5e"
      },
      "execution_count": null,
      "outputs": [
        {
          "output_type": "stream",
          "name": "stderr",
          "text": [
            "100%|██████████| 13/13 [00:01<00:00,  8.77it/s]\n"
          ]
        }
      ]
    },
    {
      "cell_type": "code",
      "source": [
        "final_probs = probs[-1]\n",
        "print('Top_k predictions and their probablities\\n')\n",
        "for label, p in get_top_k(final_probs):\n",
        "  print(f'{label:20s}: {p:.3f}')"
      ],
      "metadata": {
        "colab": {
          "base_uri": "https://localhost:8080/"
        },
        "id": "K-xw--LSAPeW",
        "outputId": "6ca8e5e1-1d84-405e-e95a-7e658d7b05b9"
      },
      "execution_count": null,
      "outputs": [
        {
          "output_type": "stream",
          "name": "stdout",
          "text": [
            "Top_k predictions and their probablities\n",
            "\n",
            "jumping jacks       : 0.999\n",
            "zumba               : 0.000\n",
            "doing aerobics      : 0.000\n",
            "dancing charleston  : 0.000\n",
            "slacklining         : 0.000\n"
          ]
        }
      ]
    },
    {
      "cell_type": "markdown",
      "source": [
        "Chuyển đổi chuỗi xác suất thành một video:"
      ],
      "metadata": {
        "id": "ujG9_VWYHd3o"
      }
    },
    {
      "cell_type": "code",
      "source": [
        "# Generate a plot and output to a video tensor\n",
        "plot_video = plot_streaming_top_preds(probs, video, video_fps=8.)"
      ],
      "metadata": {
        "colab": {
          "base_uri": "https://localhost:8080/"
        },
        "id": "KmZsu9OiAq_u",
        "outputId": "e0022d61-601d-44ea-a19a-a18a4a28eca7"
      },
      "execution_count": null,
      "outputs": [
        {
          "output_type": "stream",
          "name": "stderr",
          "text": [
            "100%|██████████| 13/13 [00:10<00:00,  1.29it/s]\n"
          ]
        }
      ]
    },
    {
      "cell_type": "code",
      "source": [
        "# For gif format, set codec='gif'\n",
        "media.show_video(plot_video, fps=3)"
      ],
      "metadata": {
        "colab": {
          "base_uri": "https://localhost:8080/",
          "height": 523
        },
        "id": "Y6jbMDb5Aytx",
        "outputId": "4ef458ef-d654-4283-9100-fd8cc43edc33"
      },
      "execution_count": null,
      "outputs": [
        {
          "output_type": "display_data",
          "data": {
            "text/plain": [
              "<IPython.core.display.HTML object>"
            ],
            "text/html": [
              "<table class=\"show_videos\" style=\"border-spacing:0px;\"><tr><td style=\"padding:1px;\"><video controls width=\"464\" height=\"500\" style=\"object-fit:cover;\" loop autoplay muted>\n",
              "      <source src=\"data:video/mp4;base64,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\" type=\"video/mp4\"/>\n",
              "      This browser does not support the video tag.\n",
              "      </video></td></tr></table>"
            ]
          },
          "metadata": {}
        }
      ]
    }
  ],
  "metadata": {
    "colab": {
      "provenance": []
    },
    "kernelspec": {
      "display_name": "Python 3",
      "name": "python3"
    },
    "language_info": {
      "name": "python"
    }
  },
  "nbformat": 4,
  "nbformat_minor": 0
}